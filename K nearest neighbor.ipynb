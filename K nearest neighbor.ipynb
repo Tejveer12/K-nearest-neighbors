{
 "cells": [
  {
   "cell_type": "markdown",
   "id": "8c57038b",
   "metadata": {},
   "source": [
    "# K nearest neighbor using SKlearn"
   ]
  },
  {
   "cell_type": "code",
   "execution_count": 1,
   "id": "3af5b26f",
   "metadata": {},
   "outputs": [],
   "source": [
    "import numpy as np\n",
    "from sklearn import preprocessing, neighbors\n",
    "from sklearn.model_selection import train_test_split\n",
    "import pandas as pd"
   ]
  },
  {
   "cell_type": "code",
   "execution_count": 2,
   "id": "e5931c03",
   "metadata": {},
   "outputs": [],
   "source": [
    "df=pd.read_csv(\"waterQuality.csv\")\n",
    "df.replace('?',-99999,inplace=True)"
   ]
  },
  {
   "cell_type": "code",
   "execution_count": 3,
   "id": "afb178eb",
   "metadata": {},
   "outputs": [
    {
     "name": "stderr",
     "output_type": "stream",
     "text": [
      "C:\\Users\\Tejveer\\AppData\\Local\\Temp\\ipykernel_13952\\1864997970.py:1: FutureWarning: In a future version of pandas all arguments of DataFrame.drop except for the argument 'labels' will be keyword-only.\n",
      "  x=np.array(df.drop(['is_safe'],1))\n"
     ]
    }
   ],
   "source": [
    "x=np.array(df.drop(['is_safe'],1))\n",
    "y=np.array(df['is_safe'])"
   ]
  },
  {
   "cell_type": "code",
   "execution_count": 4,
   "id": "f33fcc5b",
   "metadata": {},
   "outputs": [],
   "source": [
    "x_train,x_test,y_train,y_test=train_test_split(x,y,test_size=0.2)"
   ]
  },
  {
   "cell_type": "code",
   "execution_count": 5,
   "id": "8ced92d6",
   "metadata": {},
   "outputs": [
    {
     "data": {
      "text/plain": [
       "KNeighborsClassifier()"
      ]
     },
     "execution_count": 5,
     "metadata": {},
     "output_type": "execute_result"
    }
   ],
   "source": [
    "clf=neighbors.KNeighborsClassifier()\n",
    "clf.fit(x_train,y_train)"
   ]
  },
  {
   "cell_type": "code",
   "execution_count": 6,
   "id": "1ef6e4be",
   "metadata": {},
   "outputs": [
    {
     "name": "stdout",
     "output_type": "stream",
     "text": [
      "0.935\n"
     ]
    }
   ],
   "source": [
    "accuracy=clf.score(x_test,y_test)\n",
    "print(accuracy)"
   ]
  },
  {
   "cell_type": "markdown",
   "id": "3d58cf88",
   "metadata": {},
   "source": [
    "# K nearest neighbor from scratch"
   ]
  },
  {
   "cell_type": "code",
   "execution_count": 7,
   "id": "3c81d6b7",
   "metadata": {},
   "outputs": [],
   "source": [
    "import numpy as np\n",
    "from math import sqrt\n",
    "from collections import Counter\n",
    "import warnings\n",
    "import pandas as pd\n",
    "import random"
   ]
  },
  {
   "cell_type": "code",
   "execution_count": 8,
   "id": "745776e5",
   "metadata": {},
   "outputs": [],
   "source": [
    "def KNearestNeighbors(data,predict,k=3):\n",
    "    if len(data)>=k:\n",
    "        warnings.warn('K is set to a value less than total voting groups')\n",
    "    distance=[]\n",
    "    for group in data:\n",
    "        for features in data[group]:\n",
    "            euclidean_distance=sqrt(np.sum((np.array(features)-np.array(predict))**2))\n",
    "            distance.append([euclidean_distance,group])\n",
    "    votes=[i[1] for i in sorted(distance)[:k]]\n",
    "    vote_result=Counter(votes).most_common(1)[0][0]\n",
    "    #confidence=Counter(votes).most_common(1)[0][1]/k\n",
    "    return vote_result"
   ]
  },
  {
   "cell_type": "code",
   "execution_count": 9,
   "id": "982838bf",
   "metadata": {},
   "outputs": [],
   "source": [
    "df=pd.read_csv(\"waterQuality.csv\")\n",
    "df.replace(\"?\",-99999,inplace=True)\n",
    "full_data=df.astype(float).values.tolist()\n",
    "random.shuffle(full_data)"
   ]
  },
  {
   "cell_type": "code",
   "execution_count": 10,
   "id": "eaa0ef15",
   "metadata": {},
   "outputs": [],
   "source": [
    "test_size=0.2\n",
    "train_set={0:[],1:[]}\n",
    "test_set={0:[],1:[]}\n",
    "train_data=full_data[:-int(test_size*len(full_data))]\n",
    "test_data=full_data[-int(test_size*len(full_data)):]"
   ]
  },
  {
   "cell_type": "code",
   "execution_count": 11,
   "id": "ca70d997",
   "metadata": {},
   "outputs": [],
   "source": [
    "for i in train_data:\n",
    "    train_set[i[-1]].append(i[:-1])\n",
    "for i in test_data:\n",
    "    test_set[i[-1]].append(i[:-1])"
   ]
  },
  {
   "cell_type": "code",
   "execution_count": 12,
   "id": "322c0fac",
   "metadata": {},
   "outputs": [
    {
     "data": {
      "text/plain": [
       "[3.84,\n",
       " 2.09,\n",
       " 0.01,\n",
       " 3.89,\n",
       " 0.004,\n",
       " 1.48,\n",
       " 0.18,\n",
       " 0.66,\n",
       " 0.88,\n",
       " 0.68,\n",
       " 0.68,\n",
       " 0.113,\n",
       " 17.85,\n",
       " 1.99,\n",
       " 0.002,\n",
       " 13.46,\n",
       " 5.33,\n",
       " 0.01,\n",
       " 0.38,\n",
       " 0.05,\n",
       " 1.0]"
      ]
     },
     "execution_count": 12,
     "metadata": {},
     "output_type": "execute_result"
    }
   ],
   "source": [
    "full_data[0]"
   ]
  },
  {
   "cell_type": "code",
   "execution_count": 13,
   "id": "498aa981",
   "metadata": {},
   "outputs": [
    {
     "data": {
      "text/plain": [
       "1"
      ]
     },
     "execution_count": 13,
     "metadata": {},
     "output_type": "execute_result"
    }
   ],
   "source": [
    "KNearestNeighbors(train_set,[[0.14,2.6,0.03,1.75,0.007,4.86,0.66,0.86,0.11,0.85,0.85,0.101,6.48,1.06,0.008,17.68,5.59,0.04,0.45,0.06]],k=3)"
   ]
  },
  {
   "cell_type": "code",
   "execution_count": 14,
   "id": "bddff2b7",
   "metadata": {},
   "outputs": [
    {
     "name": "stdout",
     "output_type": "stream",
     "text": [
      "0.9547738693467337\n"
     ]
    }
   ],
   "source": [
    "correct=0\n",
    "total=0\n",
    "for group in test_set:\n",
    "    for predict in test_set[group]:\n",
    "        vote=KNearestNeighbors(train_set,predict,k=5)\n",
    "        if vote==group:\n",
    "            correct+=1\n",
    "        total+=1\n",
    "print(correct/total)"
   ]
  },
  {
   "cell_type": "markdown",
   "id": "f070ff71",
   "metadata": {},
   "source": [
    "# K nearest neighbor from scratch on simple dataset"
   ]
  },
  {
   "cell_type": "code",
   "execution_count": 15,
   "id": "840b845e",
   "metadata": {},
   "outputs": [],
   "source": [
    "data={0:[[1,2],[2,3],[3,4],[4,5]],1:[[3,9],[4,0],[5,6],[1,9],[2,9]]}"
   ]
  },
  {
   "cell_type": "code",
   "execution_count": 16,
   "id": "f5cc639c",
   "metadata": {},
   "outputs": [],
   "source": [
    "def KNN(data,predict,k=3):\n",
    "    distance=[]\n",
    "    for group in data:\n",
    "        for features in data[group]:\n",
    "            euclidean_distance=sqrt(np.sum((np.array(features)-np.array(predict))**2))\n",
    "            distance.append([euclidean_distance,group])\n",
    "    votes=[i[1] for i in sorted(distance)[:k]]\n",
    "    votes_result=Counter(votes).most_common(1)[0][0]\n",
    "    return votes_result\n",
    "    "
   ]
  },
  {
   "cell_type": "code",
   "execution_count": 17,
   "id": "e597d3b9",
   "metadata": {},
   "outputs": [
    {
     "data": {
      "text/plain": [
       "1"
      ]
     },
     "execution_count": 17,
     "metadata": {},
     "output_type": "execute_result"
    }
   ],
   "source": [
    "res=KNN(data,[3,8],k=3)\n",
    "res"
   ]
  },
  {
   "cell_type": "code",
   "execution_count": 18,
   "id": "607d9ef4",
   "metadata": {},
   "outputs": [
    {
     "data": {
      "image/png": "[encoded data removed]",
      "text/plain": [
       "<Figure size 432x288 with 1 Axes>"
      ]
     },
     "metadata": {
      "needs_background": "light"
     },
     "output_type": "display_data"
    }
   ],
   "source": [
    "import matplotlib.pyplot as plt\n",
    "color=['r','b']\n",
    "for group in data:\n",
    "    for features in data[group]:\n",
    "        plt.scatter(features[0],features[1],color=color[group])\n",
    "plt.scatter(3,8,color=color[res],marker='*')\n",
    "plt.show()"
   ]
  }
 ],
 "metadata": {
  "kernelspec": {
   "display_name": "Python 3 (ipykernel)",
   "language": "python",
   "name": "python3"
  },
  "language_info": {
   "codemirror_mode": {
    "name": "ipython",
    "version": 3
   },
   "file_extension": ".py",
   "mimetype": "text/x-python",
   "name": "python",
   "nbconvert_exporter": "python",
   "pygments_lexer": "ipython3",
   "version": "3.9.12"
  }
 },
 "nbformat": 4,
 "nbformat_minor": 5
}
